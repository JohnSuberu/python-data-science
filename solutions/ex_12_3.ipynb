{
 "cells": [
  {
   "cell_type": "markdown",
   "metadata": {},
   "source": [
    "# Solution to exercise 1.2.3\n",
    "\n",
    "- Change the script you wrote for [Exercise 1.2.1](#Exercise-1.2.1) to make use of the `csv` module to calculate the average GDP per capita per country in Europe in 1962, its median and standard deviation using `data/gapminder.csv` data; and compare these figures with those from Americas."
   ]
  },
  {
   "cell_type": "code",
   "execution_count": null,
   "metadata": {},
   "outputs": [],
   "source": [
    "import os\n",
    "import statistics as stats\n",
    "import csv\n",
    "\n",
    "# data will be stored here\n",
    "eu_gdppercap_1962 = []\n",
    "americas_gdppercap_1962 = []\n",
    "\n",
    "# open a file\n",
    "with open(os.path.join('..', 'data', 'gapminder.csv')) as f:\n",
    "    \n",
    "    # create a DictReader that will produce \n",
    "    reader = csv.DictReader(f, delimiter = \",\")\n",
    "    \n",
    "    # iterate through the rows of the DictReader\n",
    "    for data in reader:\n",
    "        # first check the year\n",
    "        if data['year'] == \"1962\":\n",
    "            # If the year matches, check if the row matches one of the continents \n",
    "            #   and put the GDP value at the end of the appropriate list\n",
    "            if data['continent'] == \"Europe\":\n",
    "                eu_gdppercap_1962.append(float(data['gdpPercap']))\n",
    "            if data['continent'] == 'Americas':\n",
    "                americas_gdppercap_1962.append(float(data['gdpPercap']))\n",
    "                \n",
    "# print the data\n",
    "print('European GDP per Capita in 1962')\n",
    "print(eu_gdppercap_1962)\n",
    "print('average:', stats.mean(eu_gdppercap_1962))\n",
    "print('median:', stats.median(eu_gdppercap_1962))\n",
    "print('standard deviation:', stats.stdev(eu_gdppercap_1962))\n",
    "\n",
    "print('American GDP per Capita in 1962')\n",
    "print(americas_gdppercap_1962)\n",
    "print('average:', stats.mean(americas_gdppercap_1962))\n",
    "print('median:', stats.median(americas_gdppercap_1962))\n",
    "print('standard deviation:', stats.stdev(americas_gdppercap_1962))"
   ]
  },
  {
   "cell_type": "markdown",
   "metadata": {},
   "source": [
    "Alternative solution:"
   ]
  },
  {
   "cell_type": "code",
   "execution_count": null,
   "metadata": {},
   "outputs": [],
   "source": [
    "import os\n",
    "import statistics as stats\n",
    "import csv\n",
    "\n",
    "gdps = []\n",
    "\n",
    "# we define the continent and year we are interested in\n",
    "\n",
    "year = '1962'\n",
    "\n",
    "for continent in ['Europe', 'Americas']:\n",
    "    with open('../data/gapminder.csv') as f:\n",
    "        reader = csv.DictReader(f, delimiter = \",\")\n",
    "        for data in reader:\n",
    "            # we check the year and continent at the same time\n",
    "            if data['continent'] == continent and data['year'] == year:\n",
    "                gdps.append(float(data['gdpPercap']))\n",
    "                \n",
    "    # print results for each continent\n",
    "    print('The mean and std GDP for', continent, 'in', year, 'median =', stats.median(gdps), 'std =', stats.stdev(gdps))"
   ]
  }
 ],
 "metadata": {
  "kernelspec": {
   "display_name": "Python 3",
   "language": "python",
   "name": "python3"
  },
  "language_info": {
   "codemirror_mode": {
    "name": "ipython",
    "version": 3
   },
   "file_extension": ".py",
   "mimetype": "text/x-python",
   "name": "python",
   "nbconvert_exporter": "python",
   "pygments_lexer": "ipython3",
   "version": "3.7.4"
  }
 },
 "nbformat": 4,
 "nbformat_minor": 4
}
