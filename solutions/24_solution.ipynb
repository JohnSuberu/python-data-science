{
 "cells": [
  {
   "cell_type": "code",
   "execution_count": null,
   "metadata": {},
   "outputs": [],
   "source": [
    "import pandas as pd\n",
    "from Bio import Entrez, SeqIO\n",
    "from Bio.SeqUtils import GC, molecular_weight\n",
    "import matplotlib.pyplot as plt"
   ]
  },
  {
   "cell_type": "code",
   "execution_count": null,
   "metadata": {},
   "outputs": [],
   "source": [
    "def plot_gff_stats(fn, label, your_email, n_records = None):\n",
    "    \"\"\"Draw box plots of exon lengths, GC% & molecular weight\n",
    "    for a given .gff file.\n",
    "    \n",
    "    Args:\n",
    "        fn: file path of the gff.\n",
    "        label: the title to be given to each boxplot.\n",
    "        your_email: so that NCBI knows who you are.\n",
    "        n_records: for trial runs, set this to the number of exons\n",
    "            you wish to plot.\"\"\"\n",
    "    gff_df = get_exon_data(fn, n_records, your_email)\n",
    "    plot_stats_from_df(gff_df, label)\n",
    "\n",
    "def get_exon_data(fn, n_records, your_email):\n",
    "    \"\"\"From a gff file, obtain a dataframe filtered for exons\n",
    "    only and excluding rows without GBIDs\n",
    "    \n",
    "    Args:\n",
    "        fn: file path of the gff.\n",
    "        your_email: so that NCBI knows who you are.\n",
    "        n_records: for trial runs, set this to the number of exons\n",
    "            you wish to plot.\"\"\"\n",
    "    Entrez.email = your_email\n",
    "    \n",
    "    # read the table\n",
    "    gff = pd.read_csv(fn, '\\t')\n",
    "    # filter the exons\n",
    "    gff_exons = gff.loc[gff['type'] == 'exon']\n",
    "    # remove the rows with missing gbid\n",
    "    gff_exons = gff_exons.dropna()\n",
    "\n",
    "    # shorten the table if desired\n",
    "    if n_records:\n",
    "        gff_exons = gff_exons.head(n_records)\n",
    "\n",
    "    # obtain sequence records for each exon with a gbid\n",
    "    records = []\n",
    "    for gbid in gff_exons['gbid']:\n",
    "        handle = Entrez.efetch('nucleotide', id=gbid, rettype='gb')\n",
    "        record = SeqIO.read(handle, 'gb')\n",
    "        records.append(record)\n",
    "\n",
    "    # calculate the stats\n",
    "    #   list comprehensions are used here \n",
    "    #   https://realpython.com/list-comprehension-python/\n",
    "    lengths = [len(r.seq) for r in records]\n",
    "    gcs = [GC(r.seq) for r in records]\n",
    "    weights = [molecular_weight(r.seq) for r in records]\n",
    "    \n",
    "        # assign the values to the \n",
    "    gff_exons.loc[:, 'lengths'] = lengths\n",
    "    gff_exons.loc[:, 'GC'] = gcs\n",
    "    gff_exons.loc[:, 'molecular_weight'] = weights\n",
    "    return gff_exons\n",
    "\n",
    "def plot_stats_from_df(df, label):\n",
    "    \"\"\"Plot boxplots of values in columns named:\n",
    "    'lengths', 'GC' or 'molecular_weight'\"\"\"\n",
    "    for col in ['lengths', 'GC', 'molecular_weight']:\n",
    "        gff_exons[col].plot(kind='box')\n",
    "        plt.title(label)\n",
    "        plt.show()"
   ]
  },
  {
   "cell_type": "code",
   "execution_count": null,
   "metadata": {},
   "outputs": [],
   "source": [
    "animal_files = {'mouse': 'GRCm38.gff3', \n",
    "         'human': 'GRCh38.gff3', \n",
    "         'zebrafish': 'GRCz11.gff3',\n",
    "          'panda': 'AilMel.gff3'}"
   ]
  },
  {
   "cell_type": "code",
   "execution_count": null,
   "metadata": {},
   "outputs": [],
   "source": [
    "for animal, file_name in animal_files.items():\n",
    "    plot_gff_stats('data/'+file_name, animal, 'jct61@cam.ac.uk', 5)"
   ]
  }
 ],
 "metadata": {
  "kernelspec": {
   "display_name": "Python 3",
   "language": "python",
   "name": "python3"
  },
  "language_info": {
   "codemirror_mode": {
    "name": "ipython",
    "version": 3
   },
   "file_extension": ".py",
   "mimetype": "text/x-python",
   "name": "python",
   "nbconvert_exporter": "python",
   "pygments_lexer": "ipython3",
   "version": "3.6.9"
  }
 },
 "nbformat": 4,
 "nbformat_minor": 4
}
