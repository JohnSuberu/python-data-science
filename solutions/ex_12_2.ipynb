{
 "cells": [
  {
   "cell_type": "markdown",
   "metadata": {},
   "source": [
    "## Exercise 1.2.2\n",
    "\n",
    "- Print the first 3 lines from each `.gff3` file in the `data` folder.\n",
    "\n",
    "You may wish to use the `enumerate` function, along with the `break` statement to avoid printing every line in the file."
   ]
  },
  {
   "cell_type": "code",
   "execution_count": 11,
   "metadata": {},
   "outputs": [],
   "source": [
    "import os\n",
    "# os.chdir changes the working directory. Here we use ../ to go up one directory, out of the solutions directory\n",
    "if os.getcwd().split('/')[-1] == 'solutions':\n",
    "    os.chdir('../')"
   ]
  },
  {
   "cell_type": "code",
   "execution_count": 15,
   "metadata": {},
   "outputs": [
    {
     "name": "stdout",
     "output_type": "stream",
     "text": [
      "gapminder_gdp_americas.csv\n",
      "continent,country,gdpPercap_1952,gdpPercap_1957,gdpPercap_1962,gdpPercap_1967,gdpPercap_1972,gdpPercap_1977,gdpPercap_1982,gdpPercap_1987,gdpPercap_1992,gdpPercap_1997,gdpPercap_2002,gdpPercap_2007\n",
      "Americas,Argentina,5911.315053,6856.856212,7133.166023,8052.953021,9443.038526,10079.02674,8997.897412,9139.671389,9308.41871,10967.28195,8797.640716,12779.37964\n",
      "Americas,Bolivia,2677.326347,2127.686326,2180.972546,2586.886053,2980.331339,3548.097832,3156.510452,2753.69149,2961.699694,3326.143191,3413.26269,3822.137084\n",
      "Americas,Brazil,2108.944355,2487.365989,3336.585802,3429.864357,4985.711467,6660.118654,7030.835878,7807.095818,6950.283021,7957.980824,8131.212843,9065.800825\n",
      "\n",
      "\n",
      "\n",
      "gapminder_gdp_europe.csv\n",
      "country,gdpPercap_1952,gdpPercap_1957,gdpPercap_1962,gdpPercap_1967,gdpPercap_1972,gdpPercap_1977,gdpPercap_1982,gdpPercap_1987,gdpPercap_1992,gdpPercap_1997,gdpPercap_2002,gdpPercap_2007\n",
      "Albania,1601.056136,1942.284244,2312.888958,2760.196931,3313.422188,3533.00391,3630.880722,3738.932735,2497.437901,3193.054604,4604.211737,5937.029526\n",
      "Austria,6137.076492,8842.59803,10750.72111,12834.6024,16661.6256,19749.4223,21597.08362,23687.82607,27042.01868,29095.92066,32417.60769,36126.4927\n",
      "Belgium,8343.105127,9714.960623,10991.20676,13149.04119,16672.14356,19117.97448,20979.84589,22525.56308,25575.57069,27561.19663,30485.88375,33692.60508\n",
      "\n",
      "\n",
      "\n",
      "gapminder_gdp_oceania.csv\n",
      "country,gdpPercap_1952,gdpPercap_1957,gdpPercap_1962,gdpPercap_1967,gdpPercap_1972,gdpPercap_1977,gdpPercap_1982,gdpPercap_1987,gdpPercap_1992,gdpPercap_1997,gdpPercap_2002,gdpPercap_2007\n",
      "Australia,10039.59564,10949.64959,12217.22686,14526.12465,16788.62948,18334.19751,19477.00928,21888.88903,23424.76683,26997.93657,30687.75473,34435.36744\n",
      "New Zealand,10556.57566,12247.39532,13175.678,14463.91893,16046.03728,16233.7177,17632.4104,19007.19129,18363.32494,21050.41377,23189.80135,25185.00911\n",
      "\n",
      "\n",
      "\n",
      "gapminder_gdp_africa.csv\n",
      "country,gdpPercap_1952,gdpPercap_1957,gdpPercap_1962,gdpPercap_1967,gdpPercap_1972,gdpPercap_1977,gdpPercap_1982,gdpPercap_1987,gdpPercap_1992,gdpPercap_1997,gdpPercap_2002,gdpPercap_2007\n",
      "Algeria,2449.008185,3013.976023,2550.81688,3246.991771,4182.663766,4910.416756,5745.160213,5681.358539,5023.216647,4797.295051,5288.040382,6223.367465\n",
      "Angola,3520.610273,3827.940465,4269.276742,5522.776375,5473.288005,3008.647355,2756.953672,2430.208311,2627.845685,2277.140884,2773.287312,4797.231267\n",
      "Benin,1062.7522,959.6010805,949.4990641,1035.831411,1085.796879,1029.161251,1277.897616,1225.85601,1191.207681,1232.975292,1372.877931,1441.284873\n",
      "\n",
      "\n",
      "\n",
      "gapminder.csv\n",
      "country,continent,year,lifeExp,pop,gdpPercap\n",
      "Afghanistan,Asia,1952,28.801,8425333,779.4453145\n",
      "Afghanistan,Asia,1957,30.332,9240934,820.8530296\n",
      "Afghanistan,Asia,1962,31.997,10267083,853.10071\n",
      "\n",
      "\n",
      "\n",
      "gapminder_gdp_asia.csv\n",
      "country,gdpPercap_1952,gdpPercap_1957,gdpPercap_1962,gdpPercap_1967,gdpPercap_1972,gdpPercap_1977,gdpPercap_1982,gdpPercap_1987,gdpPercap_1992,gdpPercap_1997,gdpPercap_2002,gdpPercap_2007\n",
      "Afghanistan,779.4453145,820.8530296,853.10071,836.1971382,739.9811058,786.11336,978.0114388,852.3959448,649.3413952,635.341351,726.7340548,974.5803384\n",
      "Bahrain,9867.084765,11635.79945,12753.27514,14804.6727,18268.65839,19340.10196,19211.14731,18524.02406,19035.57917,20292.01679,23403.55927,29796.04834\n",
      "Bangladesh,684.2441716,661.6374577,686.3415538,721.1860862,630.2336265,659.8772322,676.9818656,751.9794035,837.8101643,972.7700352,1136.39043,1391.253792\n",
      "\n",
      "\n",
      "\n"
     ]
    }
   ],
   "source": [
    "# go through all the files in the directory\n",
    "for file_name in os.listdir('data'):\n",
    "    \n",
    "    # only do anything with files of the right type\n",
    "    if file_name.endswith('.csv'):\n",
    "        if not os.path.isdir('data/'+file_name):\n",
    "            print(file_na)\n",
    "            \n",
    "            # print the first 3 lines\n",
    "            with open('data/'+file_name) as f:\n",
    "                print(file_name)\n",
    "                # line_idx is the number of the line we are on\n",
    "                for line_idx, line in enumerate(f):\n",
    "                    print(line.strip())\n",
    "                    if line_idx == 3:\n",
    "                        break\n",
    "                \n",
    "                # print some blank lines so we can see what is happening\n",
    "                print('\\n\\n')\n",
    "                "
   ]
  },
  {
   "cell_type": "markdown",
   "metadata": {},
   "source": [
    "Jupyter has the ability to execute Bash commands using `!<command>`. These can be mixed with python code, so the above task can be completed with the following code:"
   ]
  },
  {
   "cell_type": "code",
   "execution_count": 14,
   "metadata": {},
   "outputs": [
    {
     "name": "stdout",
     "output_type": "stream",
     "text": [
      "data/gapminder.csv\n",
      "country,continent,year,lifeExp,pop,gdpPercap\n",
      "Afghanistan,Asia,1952,28.801,8425333,779.4453145\n",
      "Afghanistan,Asia,1957,30.332,9240934,820.8530296\n",
      "\n",
      "data/gapminder_gdp_africa.csv\n",
      "country,gdpPercap_1952,gdpPercap_1957,gdpPercap_1962,gdpPercap_1967,gdpPercap_1972,gdpPercap_1977,gdpPercap_1982,gdpPercap_1987,gdpPercap_1992,gdpPercap_1997,gdpPercap_2002,gdpPercap_2007\n",
      "Algeria,2449.008185,3013.976023,2550.81688,3246.991771,4182.663766,4910.416756,5745.160213,5681.358539,5023.216647,4797.295051,5288.040382,6223.367465\n",
      "Angola,3520.610273,3827.940465,4269.276742,5522.776375,5473.288005,3008.647355,2756.953672,2430.208311,2627.845685,2277.140884,2773.287312,4797.231267\n",
      "\n",
      "data/gapminder_gdp_americas.csv\n",
      "continent,country,gdpPercap_1952,gdpPercap_1957,gdpPercap_1962,gdpPercap_1967,gdpPercap_1972,gdpPercap_1977,gdpPercap_1982,gdpPercap_1987,gdpPercap_1992,gdpPercap_1997,gdpPercap_2002,gdpPercap_2007\n",
      "Americas,Argentina,5911.315053,6856.856212,7133.166023,8052.953021,9443.038526,10079.02674,8997.897412,9139.671389,9308.41871,10967.28195,8797.640716,12779.37964\n",
      "Americas,Bolivia,2677.326347,2127.686326,2180.972546,2586.886053,2980.331339,3548.097832,3156.510452,2753.69149,2961.699694,3326.143191,3413.26269,3822.137084\n",
      "\n",
      "data/gapminder_gdp_asia.csv\n",
      "country,gdpPercap_1952,gdpPercap_1957,gdpPercap_1962,gdpPercap_1967,gdpPercap_1972,gdpPercap_1977,gdpPercap_1982,gdpPercap_1987,gdpPercap_1992,gdpPercap_1997,gdpPercap_2002,gdpPercap_2007\n",
      "Afghanistan,779.4453145,820.8530296,853.10071,836.1971382,739.9811058,786.11336,978.0114388,852.3959448,649.3413952,635.341351,726.7340548,974.5803384\n",
      "Bahrain,9867.084765,11635.79945,12753.27514,14804.6727,18268.65839,19340.10196,19211.14731,18524.02406,19035.57917,20292.01679,23403.55927,29796.04834\n",
      "\n",
      "data/gapminder_gdp_europe.csv\n",
      "country,gdpPercap_1952,gdpPercap_1957,gdpPercap_1962,gdpPercap_1967,gdpPercap_1972,gdpPercap_1977,gdpPercap_1982,gdpPercap_1987,gdpPercap_1992,gdpPercap_1997,gdpPercap_2002,gdpPercap_2007\n",
      "Albania,1601.056136,1942.284244,2312.888958,2760.196931,3313.422188,3533.00391,3630.880722,3738.932735,2497.437901,3193.054604,4604.211737,5937.029526\n",
      "Austria,6137.076492,8842.59803,10750.72111,12834.6024,16661.6256,19749.4223,21597.08362,23687.82607,27042.01868,29095.92066,32417.60769,36126.4927\n",
      "\n",
      "data/gapminder_gdp_oceania.csv\n",
      "country,gdpPercap_1952,gdpPercap_1957,gdpPercap_1962,gdpPercap_1967,gdpPercap_1972,gdpPercap_1977,gdpPercap_1982,gdpPercap_1987,gdpPercap_1992,gdpPercap_1997,gdpPercap_2002,gdpPercap_2007\n",
      "Australia,10039.59564,10949.64959,12217.22686,14526.12465,16788.62948,18334.19751,19477.00928,21888.88903,23424.76683,26997.93657,30687.75473,34435.36744\n",
      "New Zealand,10556.57566,12247.39532,13175.678,14463.91893,16046.03728,16233.7177,17632.4104,19007.19129,18363.32494,21050.41377,23189.80135,25185.00911\n",
      "\n",
      "\n",
      "^C\n",
      "\n",
      "data/decoy.csv:\n",
      "head: data/decoy.csv:: No such file or directory\n",
      "\n"
     ]
    }
   ],
   "source": [
    "# bash commands can create python objects, here `ls` creates a list of strings\n",
    "csv_files = !ls data/*.csv\n",
    "\n",
    "for file_name in csv_files:\n",
    "    print(file_name)\n",
    "    if not os.path.isdir(file_name):\n",
    "        # python variables can be passed to bash using the $var syntax\n",
    "        !head -3 $file_name\n",
    "        !echo \"\""
   ]
  },
  {
   "cell_type": "code",
   "execution_count": 17,
   "metadata": {},
   "outputs": [
    {
     "name": "stdout",
     "output_type": "stream",
     "text": [
      "country,continent,year,lifeExp,pop,gdpPercap\n",
      "Afghanistan,Asia,1952,28.801,8425333,779.4453145\n",
      "Afghanistan,Asia,1957,30.332,9240934,820.8530296\n",
      "Afghanistan,Asia,1962,31.997,10267083,853.10071\n",
      "Afghanistan,Asia,1967,34.02,11537966,836.1971382\n",
      "Afghanistan,Asia,1972,36.088,13079460,739.9811058\n",
      "Afghanistan,Asia,1977,38.438,14880372,786.11336\n",
      "Afghanistan,Asia,1982,39.854,12881816,978.0114388\n",
      "Afghanistan,Asia,1987,40.822,13867957,852.3959448\n",
      "Afghanistan,Asia,1992,41.674,16317921,649.3413952\n"
     ]
    }
   ],
   "source": [
    "!head -3 data/gapminder.csv"
   ]
  }
 ],
 "metadata": {
  "kernelspec": {
   "display_name": "Python 3",
   "language": "python",
   "name": "python3"
  },
  "language_info": {
   "codemirror_mode": {
    "name": "ipython",
    "version": 3
   },
   "file_extension": ".py",
   "mimetype": "text/x-python",
   "name": "python",
   "nbconvert_exporter": "python",
   "pygments_lexer": "ipython3",
   "version": "3.7.5"
  }
 },
 "nbformat": 4,
 "nbformat_minor": 4
}
