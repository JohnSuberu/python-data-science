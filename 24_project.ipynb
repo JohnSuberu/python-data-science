{
 "cells": [
  {
   "cell_type": "markdown",
   "metadata": {},
   "source": [
    "# Data science project in Python"
   ]
  },
  {
   "cell_type": "markdown",
   "metadata": {},
   "source": [
    "For the 4 species gff files store in the `data/` folder (mouse: `GRCm38.gff3`, human: `GRCh38.gff3`, zebrafish: `GRCz11.gff3` and panda: `AilMel.gff3`), load these files into a DataFrame, filter the exons, and calculate their length, their GC content as well as their molecular weigth. Store these calculations into new columns in their respective DataFrame. Plot these three values for the four species onto three graphs using a boxplot.\n",
    "\n",
    "Start by working with the mouse data for exploratory analysis, working through the problem steps by steps. Then, create a re-usable function to apply the analysis onto all datasets. Load all four datasets and apply the newly created function to calculate the new values. After having all DataFrames with the new three columns, visualise the data onto three boxplot graphs.\n",
    "\n",
    "Present the results into a Jupyter notebook, using Pandas, Matplotlib and Biopython. Write reusable and modular code as much as possible using functions."
   ]
  },
  {
   "cell_type": "code",
   "execution_count": 1,
   "metadata": {},
   "outputs": [],
   "source": [
    "import pandas\n",
    "from Bio import SeqIO\n",
    "from Bio import Entrez\n",
    "from Bio.SeqUtils import GC, molecular_weight"
   ]
  },
  {
   "cell_type": "code",
   "execution_count": 2,
   "metadata": {},
   "outputs": [],
   "source": [
    "def get_gc_and_mw_from_gbid(id='NM_177676.6'):\n",
    "    Entrez.email = 'A.N.Other@example.com' # Always tell NCBI who you are\n",
    "    handle = Entrez.efetch(db=\"nucleotide\", id=id, rettype=\"gb\")\n",
    "    seq_record = SeqIO.read(handle, \"gb\")\n",
    "    handle.close()\n",
    "    return GC(seq_record.seq), molecular_weight(seq_record.seq)"
   ]
  },
  {
   "cell_type": "code",
   "execution_count": 3,
   "metadata": {},
   "outputs": [
    {
     "name": "stdout",
     "output_type": "stream",
     "text": [
      "(52.09737827715356, 829310.7034000154)\n"
     ]
    }
   ],
   "source": [
    "print(get_gc_and_mw_from_gbid('NM_177676.6'))"
   ]
  },
  {
   "cell_type": "code",
   "execution_count": 4,
   "metadata": {},
   "outputs": [],
   "source": [
    "def get_gc_and_mw_from_gbids(df_ids):\n",
    "    gcs = []\n",
    "    mws = []\n",
    "    for i in df_ids:\n",
    "        gc, mw = get_gc_and_mw_from_gbid(i)\n",
    "        gcs.append(gc)\n",
    "        mws.append(mw)\n",
    "    return gcs, mws"
   ]
  },
  {
   "cell_type": "markdown",
   "metadata": {},
   "source": [
    "## Working with mouse data: exploratory analysis\n",
    "\n",
    "- remove rows with null values\n",
    "- filter all exons\n",
    "- calculate GC contents and molecular weights"
   ]
  },
  {
   "cell_type": "code",
   "execution_count": 5,
   "metadata": {},
   "outputs": [
    {
     "data": {
      "text/html": [
       "<div>\n",
       "<style scoped>\n",
       "    .dataframe tbody tr th:only-of-type {\n",
       "        vertical-align: middle;\n",
       "    }\n",
       "\n",
       "    .dataframe tbody tr th {\n",
       "        vertical-align: top;\n",
       "    }\n",
       "\n",
       "    .dataframe thead th {\n",
       "        text-align: right;\n",
       "    }\n",
       "</style>\n",
       "<table border=\"1\" class=\"dataframe\">\n",
       "  <thead>\n",
       "    <tr style=\"text-align: right;\">\n",
       "      <th></th>\n",
       "      <th>seqid</th>\n",
       "      <th>source</th>\n",
       "      <th>type</th>\n",
       "      <th>start</th>\n",
       "      <th>end</th>\n",
       "      <th>score</th>\n",
       "      <th>strand</th>\n",
       "      <th>phase</th>\n",
       "      <th>attributes</th>\n",
       "      <th>gbid</th>\n",
       "    </tr>\n",
       "  </thead>\n",
       "  <tbody>\n",
       "    <tr>\n",
       "      <th>0</th>\n",
       "      <td>NC_000073.6</td>\n",
       "      <td>Gnomon</td>\n",
       "      <td>CDS</td>\n",
       "      <td>49420174</td>\n",
       "      <td>49420340</td>\n",
       "      <td>.</td>\n",
       "      <td>+</td>\n",
       "      <td>1</td>\n",
       "      <td>ID=cds30916;Parent=rna43633;Dbxref=GeneID:7828...</td>\n",
       "      <td>XP_006541352.1</td>\n",
       "    </tr>\n",
       "    <tr>\n",
       "      <th>1</th>\n",
       "      <td>NC_000067.6</td>\n",
       "      <td>Gnomon</td>\n",
       "      <td>CDS</td>\n",
       "      <td>64607740</td>\n",
       "      <td>64608137</td>\n",
       "      <td>.</td>\n",
       "      <td>-</td>\n",
       "      <td>2</td>\n",
       "      <td>ID=cds1286;Parent=rna1815;Dbxref=GeneID:67099,...</td>\n",
       "      <td>XP_006496267.1</td>\n",
       "    </tr>\n",
       "    <tr>\n",
       "      <th>2</th>\n",
       "      <td>NC_000071.6</td>\n",
       "      <td>BestRefSeq</td>\n",
       "      <td>exon</td>\n",
       "      <td>24544129</td>\n",
       "      <td>24544373</td>\n",
       "      <td>.</td>\n",
       "      <td>-</td>\n",
       "      <td>.</td>\n",
       "      <td>ID=id325971;Parent=rna28488;Dbxref=GeneID:2310...</td>\n",
       "      <td>NM_177676.6</td>\n",
       "    </tr>\n",
       "    <tr>\n",
       "      <th>3</th>\n",
       "      <td>NC_000074.6</td>\n",
       "      <td>Gnomon</td>\n",
       "      <td>exon</td>\n",
       "      <td>71655663</td>\n",
       "      <td>71655741</td>\n",
       "      <td>.</td>\n",
       "      <td>-</td>\n",
       "      <td>.</td>\n",
       "      <td>ID=id568467;Parent=rna50916;Dbxref=GeneID:3820...</td>\n",
       "      <td>XM_017312883.1</td>\n",
       "    </tr>\n",
       "    <tr>\n",
       "      <th>4</th>\n",
       "      <td>NC_000068.7</td>\n",
       "      <td>Gnomon</td>\n",
       "      <td>CDS</td>\n",
       "      <td>135932249</td>\n",
       "      <td>135932302</td>\n",
       "      <td>.</td>\n",
       "      <td>+</td>\n",
       "      <td>1</td>\n",
       "      <td>ID=cds9263;Parent=rna13273;Dbxref=GeneID:18798...</td>\n",
       "      <td>XP_006499009.1</td>\n",
       "    </tr>\n",
       "  </tbody>\n",
       "</table>\n",
       "</div>"
      ],
      "text/plain": [
       "         seqid      source  type      start        end score strand phase  \\\n",
       "0  NC_000073.6      Gnomon   CDS   49420174   49420340     .      +     1   \n",
       "1  NC_000067.6      Gnomon   CDS   64607740   64608137     .      -     2   \n",
       "2  NC_000071.6  BestRefSeq  exon   24544129   24544373     .      -     .   \n",
       "3  NC_000074.6      Gnomon  exon   71655663   71655741     .      -     .   \n",
       "4  NC_000068.7      Gnomon   CDS  135932249  135932302     .      +     1   \n",
       "\n",
       "                                          attributes            gbid  \n",
       "0  ID=cds30916;Parent=rna43633;Dbxref=GeneID:7828...  XP_006541352.1  \n",
       "1  ID=cds1286;Parent=rna1815;Dbxref=GeneID:67099,...  XP_006496267.1  \n",
       "2  ID=id325971;Parent=rna28488;Dbxref=GeneID:2310...     NM_177676.6  \n",
       "3  ID=id568467;Parent=rna50916;Dbxref=GeneID:3820...  XM_017312883.1  \n",
       "4  ID=cds9263;Parent=rna13273;Dbxref=GeneID:18798...  XP_006499009.1  "
      ]
     },
     "execution_count": 5,
     "metadata": {},
     "output_type": "execute_result"
    }
   ],
   "source": [
    "mouse = pandas.read_csv('data/GRCm38.gff3', sep='\\t')\n",
    "mouse.head()"
   ]
  },
  {
   "cell_type": "code",
   "execution_count": 6,
   "metadata": {},
   "outputs": [
    {
     "name": "stdout",
     "output_type": "stream",
     "text": [
      "['CDS' 'exon' 'mRNA' 'ncRNA' 'transcript' 'primary_transcript']\n"
     ]
    }
   ],
   "source": [
    "mouse.dropna(inplace=True)\n",
    "print(mouse.type.unique())"
   ]
  },
  {
   "cell_type": "code",
   "execution_count": 7,
   "metadata": {},
   "outputs": [],
   "source": [
    "exon_mouse = mouse[mouse['type']=='exon']"
   ]
  },
  {
   "cell_type": "code",
   "execution_count": 8,
   "metadata": {},
   "outputs": [
    {
     "data": {
      "text/html": [
       "<div>\n",
       "<style scoped>\n",
       "    .dataframe tbody tr th:only-of-type {\n",
       "        vertical-align: middle;\n",
       "    }\n",
       "\n",
       "    .dataframe tbody tr th {\n",
       "        vertical-align: top;\n",
       "    }\n",
       "\n",
       "    .dataframe thead th {\n",
       "        text-align: right;\n",
       "    }\n",
       "</style>\n",
       "<table border=\"1\" class=\"dataframe\">\n",
       "  <thead>\n",
       "    <tr style=\"text-align: right;\">\n",
       "      <th></th>\n",
       "      <th>seqid</th>\n",
       "      <th>source</th>\n",
       "      <th>type</th>\n",
       "      <th>start</th>\n",
       "      <th>end</th>\n",
       "      <th>score</th>\n",
       "      <th>strand</th>\n",
       "      <th>phase</th>\n",
       "      <th>attributes</th>\n",
       "      <th>gbid</th>\n",
       "    </tr>\n",
       "  </thead>\n",
       "  <tbody>\n",
       "    <tr>\n",
       "      <th>2</th>\n",
       "      <td>NC_000071.6</td>\n",
       "      <td>BestRefSeq</td>\n",
       "      <td>exon</td>\n",
       "      <td>24544129</td>\n",
       "      <td>24544373</td>\n",
       "      <td>.</td>\n",
       "      <td>-</td>\n",
       "      <td>.</td>\n",
       "      <td>ID=id325971;Parent=rna28488;Dbxref=GeneID:2310...</td>\n",
       "      <td>NM_177676.6</td>\n",
       "    </tr>\n",
       "    <tr>\n",
       "      <th>3</th>\n",
       "      <td>NC_000074.6</td>\n",
       "      <td>Gnomon</td>\n",
       "      <td>exon</td>\n",
       "      <td>71655663</td>\n",
       "      <td>71655741</td>\n",
       "      <td>.</td>\n",
       "      <td>-</td>\n",
       "      <td>.</td>\n",
       "      <td>ID=id568467;Parent=rna50916;Dbxref=GeneID:3820...</td>\n",
       "      <td>XM_017312883.1</td>\n",
       "    </tr>\n",
       "    <tr>\n",
       "      <th>7</th>\n",
       "      <td>NC_000073.6</td>\n",
       "      <td>Gnomon</td>\n",
       "      <td>exon</td>\n",
       "      <td>118329486</td>\n",
       "      <td>118329612</td>\n",
       "      <td>.</td>\n",
       "      <td>+</td>\n",
       "      <td>.</td>\n",
       "      <td>ID=id520282;Parent=rna46416;Dbxref=GeneID:1026...</td>\n",
       "      <td>XR_378454.2</td>\n",
       "    </tr>\n",
       "    <tr>\n",
       "      <th>8</th>\n",
       "      <td>NC_000076.6</td>\n",
       "      <td>Gnomon</td>\n",
       "      <td>exon</td>\n",
       "      <td>5175722</td>\n",
       "      <td>5175928</td>\n",
       "      <td>.</td>\n",
       "      <td>-</td>\n",
       "      <td>.</td>\n",
       "      <td>ID=id673061;Parent=rna60010;Dbxref=GeneID:6400...</td>\n",
       "      <td>XM_017314047.1</td>\n",
       "    </tr>\n",
       "    <tr>\n",
       "      <th>9</th>\n",
       "      <td>NC_000083.6</td>\n",
       "      <td>Gnomon</td>\n",
       "      <td>exon</td>\n",
       "      <td>24585923</td>\n",
       "      <td>24586066</td>\n",
       "      <td>.</td>\n",
       "      <td>+</td>\n",
       "      <td>.</td>\n",
       "      <td>ID=id1054336;Parent=rna94586;Dbxref=GeneID:187...</td>\n",
       "      <td>XM_017317334.1</td>\n",
       "    </tr>\n",
       "  </tbody>\n",
       "</table>\n",
       "</div>"
      ],
      "text/plain": [
       "         seqid      source  type      start        end score strand phase  \\\n",
       "2  NC_000071.6  BestRefSeq  exon   24544129   24544373     .      -     .   \n",
       "3  NC_000074.6      Gnomon  exon   71655663   71655741     .      -     .   \n",
       "7  NC_000073.6      Gnomon  exon  118329486  118329612     .      +     .   \n",
       "8  NC_000076.6      Gnomon  exon    5175722    5175928     .      -     .   \n",
       "9  NC_000083.6      Gnomon  exon   24585923   24586066     .      +     .   \n",
       "\n",
       "                                          attributes            gbid  \n",
       "2  ID=id325971;Parent=rna28488;Dbxref=GeneID:2310...     NM_177676.6  \n",
       "3  ID=id568467;Parent=rna50916;Dbxref=GeneID:3820...  XM_017312883.1  \n",
       "7  ID=id520282;Parent=rna46416;Dbxref=GeneID:1026...     XR_378454.2  \n",
       "8  ID=id673061;Parent=rna60010;Dbxref=GeneID:6400...  XM_017314047.1  \n",
       "9  ID=id1054336;Parent=rna94586;Dbxref=GeneID:187...  XM_017317334.1  "
      ]
     },
     "execution_count": 8,
     "metadata": {},
     "output_type": "execute_result"
    }
   ],
   "source": [
    "exon_mouse.head()"
   ]
  },
  {
   "cell_type": "code",
   "execution_count": 9,
   "metadata": {},
   "outputs": [],
   "source": [
    "small_exon_mouse = exon_mouse.iloc[:9,]"
   ]
  },
  {
   "cell_type": "code",
   "execution_count": 10,
   "metadata": {},
   "outputs": [],
   "source": [
    "gcs, mws = get_gc_and_mw_from_gbids(small_exon_mouse['gbid'])"
   ]
  },
  {
   "cell_type": "code",
   "execution_count": 11,
   "metadata": {},
   "outputs": [],
   "source": [
    "small_exon_mouse.insert(len(small_exon_mouse.columns), 'len', small_exon_mouse['end'] - small_exon_mouse['start'] + 1)"
   ]
  },
  {
   "cell_type": "code",
   "execution_count": 12,
   "metadata": {},
   "outputs": [],
   "source": [
    "small_exon_mouse.insert(len(small_exon_mouse.columns), 'gc', gcs)"
   ]
  },
  {
   "cell_type": "code",
   "execution_count": 13,
   "metadata": {},
   "outputs": [],
   "source": [
    "small_exon_mouse.insert(len(small_exon_mouse.columns), 'mw', mws)"
   ]
  },
  {
   "cell_type": "code",
   "execution_count": 14,
   "metadata": {},
   "outputs": [
    {
     "data": {
      "text/html": [
       "<div>\n",
       "<style scoped>\n",
       "    .dataframe tbody tr th:only-of-type {\n",
       "        vertical-align: middle;\n",
       "    }\n",
       "\n",
       "    .dataframe tbody tr th {\n",
       "        vertical-align: top;\n",
       "    }\n",
       "\n",
       "    .dataframe thead th {\n",
       "        text-align: right;\n",
       "    }\n",
       "</style>\n",
       "<table border=\"1\" class=\"dataframe\">\n",
       "  <thead>\n",
       "    <tr style=\"text-align: right;\">\n",
       "      <th></th>\n",
       "      <th>seqid</th>\n",
       "      <th>source</th>\n",
       "      <th>type</th>\n",
       "      <th>start</th>\n",
       "      <th>end</th>\n",
       "      <th>score</th>\n",
       "      <th>strand</th>\n",
       "      <th>phase</th>\n",
       "      <th>attributes</th>\n",
       "      <th>gbid</th>\n",
       "      <th>len</th>\n",
       "      <th>gc</th>\n",
       "      <th>mw</th>\n",
       "    </tr>\n",
       "  </thead>\n",
       "  <tbody>\n",
       "    <tr>\n",
       "      <th>2</th>\n",
       "      <td>NC_000071.6</td>\n",
       "      <td>BestRefSeq</td>\n",
       "      <td>exon</td>\n",
       "      <td>24544129</td>\n",
       "      <td>24544373</td>\n",
       "      <td>.</td>\n",
       "      <td>-</td>\n",
       "      <td>.</td>\n",
       "      <td>ID=id325971;Parent=rna28488;Dbxref=GeneID:2310...</td>\n",
       "      <td>NM_177676.6</td>\n",
       "      <td>245</td>\n",
       "      <td>52.097378</td>\n",
       "      <td>8.293107e+05</td>\n",
       "    </tr>\n",
       "    <tr>\n",
       "      <th>3</th>\n",
       "      <td>NC_000074.6</td>\n",
       "      <td>Gnomon</td>\n",
       "      <td>exon</td>\n",
       "      <td>71655663</td>\n",
       "      <td>71655741</td>\n",
       "      <td>.</td>\n",
       "      <td>-</td>\n",
       "      <td>.</td>\n",
       "      <td>ID=id568467;Parent=rna50916;Dbxref=GeneID:3820...</td>\n",
       "      <td>XM_017312883.1</td>\n",
       "      <td>79</td>\n",
       "      <td>57.063197</td>\n",
       "      <td>2.164587e+06</td>\n",
       "    </tr>\n",
       "    <tr>\n",
       "      <th>7</th>\n",
       "      <td>NC_000073.6</td>\n",
       "      <td>Gnomon</td>\n",
       "      <td>exon</td>\n",
       "      <td>118329486</td>\n",
       "      <td>118329612</td>\n",
       "      <td>.</td>\n",
       "      <td>+</td>\n",
       "      <td>.</td>\n",
       "      <td>ID=id520282;Parent=rna46416;Dbxref=GeneID:1026...</td>\n",
       "      <td>XR_378454.2</td>\n",
       "      <td>127</td>\n",
       "      <td>49.659864</td>\n",
       "      <td>3.169640e+05</td>\n",
       "    </tr>\n",
       "    <tr>\n",
       "      <th>8</th>\n",
       "      <td>NC_000076.6</td>\n",
       "      <td>Gnomon</td>\n",
       "      <td>exon</td>\n",
       "      <td>5175722</td>\n",
       "      <td>5175928</td>\n",
       "      <td>.</td>\n",
       "      <td>-</td>\n",
       "      <td>.</td>\n",
       "      <td>ID=id673061;Parent=rna60010;Dbxref=GeneID:6400...</td>\n",
       "      <td>XM_017314047.1</td>\n",
       "      <td>207</td>\n",
       "      <td>50.390277</td>\n",
       "      <td>8.345749e+06</td>\n",
       "    </tr>\n",
       "    <tr>\n",
       "      <th>9</th>\n",
       "      <td>NC_000083.6</td>\n",
       "      <td>Gnomon</td>\n",
       "      <td>exon</td>\n",
       "      <td>24585923</td>\n",
       "      <td>24586066</td>\n",
       "      <td>.</td>\n",
       "      <td>+</td>\n",
       "      <td>.</td>\n",
       "      <td>ID=id1054336;Parent=rna94586;Dbxref=GeneID:187...</td>\n",
       "      <td>XM_017317334.1</td>\n",
       "      <td>144</td>\n",
       "      <td>56.730498</td>\n",
       "      <td>4.384230e+06</td>\n",
       "    </tr>\n",
       "  </tbody>\n",
       "</table>\n",
       "</div>"
      ],
      "text/plain": [
       "         seqid      source  type      start        end score strand phase  \\\n",
       "2  NC_000071.6  BestRefSeq  exon   24544129   24544373     .      -     .   \n",
       "3  NC_000074.6      Gnomon  exon   71655663   71655741     .      -     .   \n",
       "7  NC_000073.6      Gnomon  exon  118329486  118329612     .      +     .   \n",
       "8  NC_000076.6      Gnomon  exon    5175722    5175928     .      -     .   \n",
       "9  NC_000083.6      Gnomon  exon   24585923   24586066     .      +     .   \n",
       "\n",
       "                                          attributes            gbid  len  \\\n",
       "2  ID=id325971;Parent=rna28488;Dbxref=GeneID:2310...     NM_177676.6  245   \n",
       "3  ID=id568467;Parent=rna50916;Dbxref=GeneID:3820...  XM_017312883.1   79   \n",
       "7  ID=id520282;Parent=rna46416;Dbxref=GeneID:1026...     XR_378454.2  127   \n",
       "8  ID=id673061;Parent=rna60010;Dbxref=GeneID:6400...  XM_017314047.1  207   \n",
       "9  ID=id1054336;Parent=rna94586;Dbxref=GeneID:187...  XM_017317334.1  144   \n",
       "\n",
       "          gc            mw  \n",
       "2  52.097378  8.293107e+05  \n",
       "3  57.063197  2.164587e+06  \n",
       "7  49.659864  3.169640e+05  \n",
       "8  50.390277  8.345749e+06  \n",
       "9  56.730498  4.384230e+06  "
      ]
     },
     "execution_count": 14,
     "metadata": {},
     "output_type": "execute_result"
    }
   ],
   "source": [
    "small_exon_mouse.head()"
   ]
  },
  {
   "cell_type": "code",
   "execution_count": 15,
   "metadata": {},
   "outputs": [
    {
     "data": {
      "image/png": "[encoded data removed]",
      "text/plain": [
       "<Figure size 432x288 with 1 Axes>"
      ]
     },
     "metadata": {
      "needs_background": "light"
     },
     "output_type": "display_data"
    }
   ],
   "source": [
    "%matplotlib inline\n",
    "import matplotlib.pyplot as plt\n",
    "plt.boxplot([small_exon_mouse['gc']], labels=['mouse'])\n",
    "plt.ylabel('GC content (%)')\n",
    "plt.show()"
   ]
  },
  {
   "cell_type": "markdown",
   "metadata": {},
   "source": [
    "## Creating a re-usable function to apply the analysis onto other datasets"
   ]
  },
  {
   "cell_type": "code",
   "execution_count": null,
   "metadata": {},
   "outputs": [],
   "source": [
    "def get_exons(data):\n",
    "    data.dropna(inplace=True)\n",
    "    exons = data[data['type']=='exon']\n",
    "    exons = exons[:9]\n",
    "    gcs, mws = get_gc_and_mw_from_gbids(exons['gbid'])\n",
    "    exons.insert(len(exons.columns), 'len', exons['end'] - exons['start'] + 1)\n",
    "    exons.insert(len(exons.columns), 'gc', gcs)\n",
    "    exons.insert(len(exons.columns), 'mw', mws)\n",
    "    return exons"
   ]
  },
  {
   "cell_type": "markdown",
   "metadata": {},
   "source": [
    "## Loading all four datasets and calculating new values"
   ]
  },
  {
   "cell_type": "code",
   "execution_count": null,
   "metadata": {},
   "outputs": [],
   "source": [
    "mouse = pandas.read_csv('data/GRCm38.gff3', sep='\\t')\n",
    "mouse_small_exons = get_exons(mouse)\n",
    "mouse_small_exons.head()"
   ]
  },
  {
   "cell_type": "code",
   "execution_count": null,
   "metadata": {},
   "outputs": [],
   "source": [
    "human = pandas.read_csv('data/GRCh38.gff3', sep='\\t')\n",
    "human_small_exons = get_exons(human)\n",
    "human_small_exons.head()"
   ]
  },
  {
   "cell_type": "code",
   "execution_count": null,
   "metadata": {},
   "outputs": [],
   "source": [
    "zebrafish = pandas.read_csv('data/GRCz11.gff3', sep='\\t')\n",
    "zebrafish_small_exons = get_exons(zebrafish)\n",
    "zebrafish_small_exons.head()"
   ]
  },
  {
   "cell_type": "code",
   "execution_count": null,
   "metadata": {},
   "outputs": [],
   "source": [
    "panda = pandas.read_csv('data/AilMel.gff3', sep='\\t')\n",
    "panda_small_exons = get_exons(panda)\n",
    "panda_small_exons.head()"
   ]
  },
  {
   "cell_type": "markdown",
   "metadata": {},
   "source": [
    "## Visualising data"
   ]
  },
  {
   "cell_type": "markdown",
   "metadata": {},
   "source": [
    "### Comparing exon's length, GC content and molecular weight across four species"
   ]
  },
  {
   "cell_type": "code",
   "execution_count": null,
   "metadata": {},
   "outputs": [],
   "source": [
    "%matplotlib inline\n",
    "import matplotlib.pyplot as plt\n",
    "plt.boxplot([mouse_small_exons['len'], \n",
    "             human_small_exons['len'], \n",
    "             zebrafish_small_exons['len'],\n",
    "             panda_small_exons['len']], \n",
    "            labels=['mouse', 'human', 'zebrafish', 'panda']\n",
    "            )\n",
    "plt.ylabel('Feature length (bp)')\n",
    "plt.show()"
   ]
  },
  {
   "cell_type": "code",
   "execution_count": null,
   "metadata": {},
   "outputs": [],
   "source": [
    "%matplotlib inline\n",
    "import matplotlib.pyplot as plt\n",
    "plt.boxplot([mouse_small_exons['gc'], \n",
    "             human_small_exons['gc'], \n",
    "             zebrafish_small_exons['gc'],\n",
    "             panda_small_exons['gc']], \n",
    "            labels=['mouse', 'human', 'zebrafish', 'panda']\n",
    "            )\n",
    "plt.ylabel('GC content (%)')\n",
    "plt.show()"
   ]
  },
  {
   "cell_type": "code",
   "execution_count": null,
   "metadata": {},
   "outputs": [],
   "source": [
    "%matplotlib inline\n",
    "import matplotlib.pyplot as plt\n",
    "plt.boxplot([mouse_small_exons['mw'], \n",
    "             human_small_exons['mw'], \n",
    "             zebrafish_small_exons['mw'],\n",
    "             panda_small_exons['mw']], \n",
    "            labels=['mouse', 'human', 'zebrafish', 'panda']\n",
    "            )\n",
    "plt.ylabel('Molecular weight')\n",
    "plt.show()"
   ]
  }
 ],
 "metadata": {
  "kernelspec": {
   "display_name": "Python 3",
   "language": "python",
   "name": "python3"
  },
  "language_info": {
   "codemirror_mode": {
    "name": "ipython",
    "version": 3
   },
   "file_extension": ".py",
   "mimetype": "text/x-python",
   "name": "python",
   "nbconvert_exporter": "python",
   "pygments_lexer": "ipython3",
   "version": "3.6.4"
  }
 },
 "nbformat": 4,
 "nbformat_minor": 2
}
